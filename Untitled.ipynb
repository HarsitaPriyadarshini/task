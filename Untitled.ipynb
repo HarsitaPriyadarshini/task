{
 "cells": [
  {
   "cell_type": "code",
   "execution_count": null,
   "id": "13a566a2",
   "metadata": {},
   "outputs": [],
   "source": [
    "import numpy as np\n",
    "import pandas as pd\n",
    "import matplotlib.pyplot as plt\n",
    "from sklearn.model_selection import train_test_split\n",
    "from sklearn.linear_model import LinearRegression\n",
    "from sklearn.metrics import mean_squared_error, r2_score\n",
    "\n",
    "# Load the dataset\n",
    "data = pd.read_csv('housing_data.csv')\n",
    "\n",
    "# Display the first few rows of the dataset\n",
    "print(data.head())\n",
    "\n",
    "# Check for missing values\n",
    "print(data.isnull().sum())\n",
    "\n",
    "# Fill or drop missing values as needed\n",
    "data = data.dropna()\n",
    "\n",
    "# Define features and target variable\n",
    "X = data[['square_feet', 'num_bedrooms', 'num_bathrooms']]\n",
    "y = data['price']\n",
    "\n",
    "# Split the dataset into training and testing sets\n",
    "X_train, X_test, y_train, y_test = train_test_split(X, y, test_size=0.2, random_state=42)\n",
    "\n",
    "# Create the model\n",
    "model = LinearRegression()\n",
    "\n",
    "# Train the model\n",
    "model.fit(X_train, y_train)\n",
    "\n",
    "# Make predictions on the test set\n",
    "y_pred = model.predict(X_test)\n",
    "\n",
    "# Calculate Mean Squared Error\n",
    "mse = mean_squared_error(y_test, y_pred)\n",
    "print('Mean Squared Error:', mse)\n",
    "\n",
    "# Calculate R-squared\n",
    "r2 = r2_score(y_test, y_pred)\n",
    "print('R-squared:', r2)\n",
    "\n",
    "# Visualize the actual vs. predicted values\n",
    "plt.scatter(y_test, y_pred)\n",
    "plt.xlabel('Actual Prices')\n",
    "plt.ylabel('Predicted Prices')\n",
    "plt.title('Actual vs Predicted Prices')\n",
    "plt.show()\n"
   ]
  },
  {
   "cell_type": "code",
   "execution_count": 1,
   "id": "1053451b",
   "metadata": {},
   "outputs": [
    {
     "data": {
      "application/vnd.jupyter.widget-view+json": {
       "model_id": "505b7014fc204f4285057c4bff7d4cdf",
       "version_major": 2,
       "version_minor": 0
      },
      "text/plain": [
       "Text(value='', description='Height (cm):', placeholder='Enter height in cm')"
      ]
     },
     "metadata": {},
     "output_type": "display_data"
    },
    {
     "data": {
      "application/vnd.jupyter.widget-view+json": {
       "model_id": "d1a0f0e2a4084d96b7c35d6ebc7e5d5e",
       "version_major": 2,
       "version_minor": 0
      },
      "text/plain": [
       "Text(value='', description='Weight (kg):', placeholder='Enter weight in kg')"
      ]
     },
     "metadata": {},
     "output_type": "display_data"
    },
    {
     "data": {
      "application/vnd.jupyter.widget-view+json": {
       "model_id": "5b9c1c9154bf4810a5ac21f9081f9449",
       "version_major": 2,
       "version_minor": 0
      },
      "text/plain": [
       "Button(description='Calculate BMI', style=ButtonStyle())"
      ]
     },
     "metadata": {},
     "output_type": "display_data"
    },
    {
     "data": {
      "application/vnd.jupyter.widget-view+json": {
       "model_id": "2de8c253c0bc48fba3a87b984ef2b7d4",
       "version_major": 2,
       "version_minor": 0
      },
      "text/plain": [
       "Output()"
      ]
     },
     "metadata": {},
     "output_type": "display_data"
    }
   ],
   "source": [
    "import ipywidgets as widgets\n",
    "from IPython.display import display, clear_output\n",
    "\n",
    "def calculate_bmi(height, weight):\n",
    "    try:\n",
    "        height = float(height)\n",
    "        weight = float(weight)\n",
    "        \n",
    "        if height <= 0 or weight <= 0:\n",
    "            return \"Height and Weight must be positive numbers.\"\n",
    "        \n",
    "        bmi = weight / (height / 100) ** 2  # Convert height from cm to meters\n",
    "        \n",
    "        if bmi < 18.5:\n",
    "            category = \"Underweight\"\n",
    "        elif 18.5 <= bmi < 24.9:\n",
    "            category = \"Normal weight\"\n",
    "        elif 25 <= bmi < 29.9:\n",
    "            category = \"Overweight\"\n",
    "        else:\n",
    "            category = \"Obesity\"\n",
    "        \n",
    "        return f\"BMI: {bmi:.2f}\\nCategory: {category}\"\n",
    "    except ValueError:\n",
    "        return \"Please enter valid numbers for height and weight.\"\n",
    "\n",
    "height_input = widgets.Text(\n",
    "    value='',\n",
    "    placeholder='Enter height in cm',\n",
    "    description='Height (cm):',\n",
    "    disabled=False\n",
    ")\n",
    "\n",
    "weight_input = widgets.Text(\n",
    "    value='',\n",
    "    placeholder='Enter weight in kg',\n",
    "    description='Weight (kg):',\n",
    "    disabled=False\n",
    ")\n",
    "\n",
    "output = widgets.Output()\n",
    "\n",
    "def on_button_clicked(b):\n",
    "    with output:\n",
    "        clear_output()\n",
    "        result = calculate_bmi(height_input.value, weight_input.value)\n",
    "        print(result)\n",
    "\n",
    "button = widgets.Button(description=\"Calculate BMI\")\n",
    "button.on_click(on_button_clicked)\n",
    "\n",
    "display(height_input)\n",
    "display(weight_input)\n",
    "display(button)\n",
    "display(output)\n"
   ]
  },
  {
   "cell_type": "code",
   "execution_count": null,
   "id": "9008d53f",
   "metadata": {},
   "outputs": [],
   "source": []
  }
 ],
 "metadata": {
  "kernelspec": {
   "display_name": "Python 3 (ipykernel)",
   "language": "python",
   "name": "python3"
  },
  "language_info": {
   "codemirror_mode": {
    "name": "ipython",
    "version": 3
   },
   "file_extension": ".py",
   "mimetype": "text/x-python",
   "name": "python",
   "nbconvert_exporter": "python",
   "pygments_lexer": "ipython3",
   "version": "3.11.5"
  }
 },
 "nbformat": 4,
 "nbformat_minor": 5
}
